{
  "nbformat": 4,
  "nbformat_minor": 0,
  "metadata": {
    "colab": {
      "name": "IMS.ipynb",
      "provenance": []
    },
    "kernelspec": {
      "name": "python3",
      "display_name": "Python 3"
    },
    "language_info": {
      "name": "python"
    }
  },
  "cells": [
    {
      "cell_type": "code",
      "metadata": {
        "id": "vnj5UYdaXMbR"
      },
      "source": [
        "record = { 1541 : {\"name\": \"five star\", \"price\": 20, \"category\": \"Chocolate\", \"qty\": 1000, \"batchNo\": 913}, 1542 : {\"name\": \"Fuse Chocolate\", \"price\": 35 , \"category\": \"Chocolate\", \"qty\": 800, \"batchNo\": 921},1543 : {\"name\": \"Bournville Chocolate\", \"price\": 76 ,\"category\": \"Chocolate\" , \"qty\": 750, \"batchNo\": 932}, 1544 : {\"name\": \"Dairy Milk silk\", \"price\": 160, \"category\": \"Chocolate\", \"qty\": 1020, \"batchNo\": 494}, 1545:  {\"name\": \"Dairy Milk Chocolate Bars\", \"price\": 40 , \"category\": \"Chocolate\", \"qty\": 2000, \"batchNo\": 915}, 1546 : {\"name\": \"Snickers Bars\", \"price\": 20 , \"category\": \"Chocolate\", \"qty\": 3050, \"batchNo\": 906}, 1547 : {\"name\": \"Kitkat Bars\", \"price\": 25 , \"category\": \"Chocolate\", \"qty\": 2500, \"batchNo\": 497}, 1548 : {\"name\": \"Cadbury 5 star\", \"price\": 20 , \"category\": \"Chocolate\", \"qty\": 3000, \"batchNo\": 298}, 1549:  {\"name\": \"Choco Minis\", \"price\": 350 , \"category\": \"Chocolate\", \"qty\": 900, \"batchNo\": 199}, 1550 : {\"name\": \"Ferrero Rocher\", \"price\": 850 , \"category\": \"Chocolate\", \"qty\": 1500, \"batchNo\": 100}, 1551 : {\"name\": \"Amul Chocolate\", \"price\": 125 , \"category\": \"Chocolate\", \"qty\": 2800, \"batchNo\": 101}, 1552 : {\"name\": \"5 star Oreo\", \"price\": 300 , \"category\": \"Chocolate\", \"qty\": 1000, \"id\": 102}, 1553 : {\"name\": \"Milk Chocolate\", \"price\": 240 , \"category\": \"Chocolate\", \"qty\": 1700, \"batchNo\": 703}, 1554 : {\"name\": \"Parle cookies\", \"price\": 35 , \"category\": \"Choco Biscuits\", \"qty\": 3000, \"batchNo\": 104}, 1555 : {\"name\": \"Good Day Cookies\", \"price\": 20 , \"category\": \"Biscuits\", \"qty\": 3200, \"batchNo\": 105}, 1556 : {\"name\": \"BourBonn biscuit\", \"price\": 10 , \"category\": \"Biscuits\", \"qty\": 2000, \"batchNo\": 106}, 1557 : {\"name\": \"Tiger Biscuits\", \"price\": 5 , \"category\": \"Biscuits\", \"qty\": 3000, \"batchNo\": 107}, 1558 : {\"name\": \"Milk Bikis\", \"price\": 25 , \"category\": \"Biscuits\", \"qty\": 3000, \"batchNo\": 108}, 1559 : {\"name\": \"Britannia Treat Jim Jam\", \"price\": 25 , \"category\": \"Biscuits\", \"qty\": 2000, \"batchNo\": 109}, 1560 : {\"name\": \"Britannia Treat Biscuits\", \"price\": 30 , \"category\": \"Biscuits\", \"qty\": 1500, \"batchNo\": 110}, 1561 : {\"name\": \"Butter Cookies\", \"price\": 20 , \"category\": \"Biscuits\", \"qty\": 1500, \"batchNo\": 111}, 1562 : {\"name\": \"Choco Nut Cookies\", \"price\": 160 , \"category\": \"Biscuits\", \"qty\": 850, \"batchNo\": 112}, 1563 : {\"name\": \"Dark Fantasy\", \"price\": 30 , \"category\": \"Biscuits\", \"qty\": 1000, \"batchNo\": 113}, 1564 : {\"name\": \"Treat Burst Cookies\", \"price\": 300 , \"category\": \"Biscuits\", \"qty\": 1500, \"batchNo\": 114}, 1565 : {\"name\": \"Britannia Fruit cake\", \"price\": 40 , \"category\": \"Cake\", \"qty\": 3000, \"batchNo\": 115}, 1566 : {\"name\": \"Choco Chips\", \"price\": 162 , \"category\": \"Biscuits\", \"qty\": 1000, \"batchNo\": 116}, 1567 : {\"name\": \"Tiger Krunch Biscuits\", \"price\": 100 , \"category\": \"Biscuits\", \"qty\": 1500, \"batchNo\": 117}, 1568 : {\"name\": \"perk\", \"price\": 25 , \"category\": \"Chocolate\", \"qty\": 2000, \"batchNo\": 118}, 1569 : {\"name\": \"Choco Chip Cookies\", \"price\": 95 , \"category\": \"Biscuits\", \"qty\": 1000, \"batchNo\": 119}, 1570 : {\"name\": \"Munch\", \"price\": 15 , \"category\": \"Chocolate\", \"qty\": 1000, \"batchNo\":   120}}"
      ],
      "execution_count": 5,
      "outputs": []
    },
    {
      "cell_type": "code",
      "metadata": {
        "id": "2uRXPeyfYISP"
      },
      "source": [
        "import json\n",
        "js = json.dumps(record)\n"
      ],
      "execution_count": 6,
      "outputs": []
    },
    {
      "cell_type": "code",
      "metadata": {
        "colab": {
          "base_uri": "https://localhost:8080/",
          "height": 107
        },
        "id": "hXi4GXrUYN3k",
        "outputId": "525afee8-bbf8-4e48-83eb-fe9c2a009b8c"
      },
      "source": [
        "js"
      ],
      "execution_count": 7,
      "outputs": [
        {
          "output_type": "execute_result",
          "data": {
            "application/vnd.google.colaboratory.intrinsic+json": {
              "type": "string"
            },
            "text/plain": [
              "'{\"1541\": {\"name\": \"five star\", \"price\": 20, \"category\": \"Chocolate\", \"qty\": 1000, \"batchNo\": 913}, \"1542\": {\"name\": \"Fuse Chocolate\", \"price\": 35, \"category\": \"Chocolate\", \"qty\": 800, \"batchNo\": 921}, \"1543\": {\"name\": \"Bournville Chocolate\", \"price\": 76, \"category\": \"Chocolate\", \"qty\": 750, \"batchNo\": 932}, \"1544\": {\"name\": \"Dairy Milk silk\", \"price\": 160, \"category\": \"Chocolate\", \"qty\": 1020, \"batchNo\": 494}, \"1545\": {\"name\": \"Dairy Milk Chocolate Bars\", \"price\": 40, \"category\": \"Chocolate\", \"qty\": 2000, \"batchNo\": 915}, \"1546\": {\"name\": \"Snickers Bars\", \"price\": 20, \"category\": \"Chocolate\", \"qty\": 3050, \"batchNo\": 906}, \"1547\": {\"name\": \"Kitkat Bars\", \"price\": 25, \"category\": \"Chocolate\", \"qty\": 2500, \"batchNo\": 497}, \"1548\": {\"name\": \"Cadbury 5 star\", \"price\": 20, \"category\": \"Chocolate\", \"qty\": 3000, \"batchNo\": 298}, \"1549\": {\"name\": \"Choco Minis\", \"price\": 350, \"category\": \"Chocolate\", \"qty\": 900, \"batchNo\": 199}, \"1550\": {\"name\": \"Ferrero Rocher\", \"price\": 850, \"category\": \"Chocolate\", \"qty\": 1500, \"batchNo\": 100}, \"1551\": {\"name\": \"Amul Chocolate\", \"price\": 125, \"category\": \"Chocolate\", \"qty\": 2800, \"batchNo\": 101}, \"1552\": {\"name\": \"5 star Oreo\", \"price\": 300, \"category\": \"Chocolate\", \"qty\": 1000, \"id\": 102}, \"1553\": {\"name\": \"Milk Chocolate\", \"price\": 240, \"category\": \"Chocolate\", \"qty\": 1700, \"batchNo\": 703}, \"1554\": {\"name\": \"Parle cookies\", \"price\": 35, \"category\": \"Choco Biscuits\", \"qty\": 3000, \"batchNo\": 104}, \"1555\": {\"name\": \"Good Day Cookies\", \"price\": 20, \"category\": \"Biscuits\", \"qty\": 3200, \"batchNo\": 105}, \"1556\": {\"name\": \"BourBonn biscuit\", \"price\": 10, \"category\": \"Biscuits\", \"qty\": 2000, \"batchNo\": 106}, \"1557\": {\"name\": \"Tiger Biscuits\", \"price\": 5, \"category\": \"Biscuits\", \"qty\": 3000, \"batchNo\": 107}, \"1558\": {\"name\": \"Milk Bikis\", \"price\": 25, \"category\": \"Biscuits\", \"qty\": 3000, \"batchNo\": 108}, \"1559\": {\"name\": \"Britannia Treat Jim Jam\", \"price\": 25, \"category\": \"Biscuits\", \"qty\": 2000, \"batchNo\": 109}, \"1560\": {\"name\": \"Britannia Treat Biscuits\", \"price\": 30, \"category\": \"Biscuits\", \"qty\": 1500, \"batchNo\": 110}, \"1561\": {\"name\": \"Butter Cookies\", \"price\": 20, \"category\": \"Biscuits\", \"qty\": 1500, \"batchNo\": 111}, \"1562\": {\"name\": \"Choco Nut Cookies\", \"price\": 160, \"category\": \"Biscuits\", \"qty\": 850, \"batchNo\": 112}, \"1563\": {\"name\": \"Dark Fantasy\", \"price\": 30, \"category\": \"Biscuits\", \"qty\": 1000, \"batchNo\": 113}, \"1564\": {\"name\": \"Treat Burst Cookies\", \"price\": 300, \"category\": \"Biscuits\", \"qty\": 1500, \"batchNo\": 114}, \"1565\": {\"name\": \"Britannia Fruit cake\", \"price\": 40, \"category\": \"Cake\", \"qty\": 3000, \"batchNo\": 115}, \"1566\": {\"name\": \"Choco Chips\", \"price\": 162, \"category\": \"Biscuits\", \"qty\": 1000, \"batchNo\": 116}, \"1567\": {\"name\": \"Tiger Krunch Biscuits\", \"price\": 100, \"category\": \"Biscuits\", \"qty\": 1500, \"batchNo\": 117}, \"1568\": {\"name\": \"perk\", \"price\": 25, \"category\": \"Chocolate\", \"qty\": 2000, \"batchNo\": 118}, \"1569\": {\"name\": \"Choco Chip Cookies\", \"price\": 95, \"category\": \"Biscuits\", \"qty\": 1000, \"batchNo\": 119}, \"1570\": {\"name\": \"Munch\", \"price\": 15, \"category\": \"Chocolate\", \"qty\": 1000, \"batchNo\": 120}}'"
            ]
          },
          "metadata": {},
          "execution_count": 7
        }
      ]
    },
    {
      "cell_type": "code",
      "metadata": {
        "id": "xys5E4PlYSgM"
      },
      "source": [
        "fd = open(\"record.txt\",'w')\n",
        "fd.write(js)\n",
        "fd.close()"
      ],
      "execution_count": 8,
      "outputs": []
    },
    {
      "cell_type": "markdown",
      "metadata": {
        "id": "m6tuYT-idHPp"
      },
      "source": [
        "**READ DATA FROM JSON**"
      ]
    },
    {
      "cell_type": "code",
      "metadata": {
        "id": "CUqaoWB9XcVd"
      },
      "source": [
        "fd = open(\"record.txt\",'r')\n",
        "r = fd.read()\n",
        "fd.close()\n",
        "\n",
        "record = json.loads(r)\n"
      ],
      "execution_count": 9,
      "outputs": []
    },
    {
      "cell_type": "code",
      "metadata": {
        "colab": {
          "base_uri": "https://localhost:8080/"
        },
        "id": "HOGZ2e4uYjQO",
        "outputId": "5f418c8e-dd45-4233-c91f-3e36a8c22913"
      },
      "source": [
        "record"
      ],
      "execution_count": 10,
      "outputs": [
        {
          "output_type": "execute_result",
          "data": {
            "text/plain": [
              "{'1541': {'batchNo': 913,\n",
              "  'category': 'Chocolate',\n",
              "  'name': 'five star',\n",
              "  'price': 20,\n",
              "  'qty': 1000},\n",
              " '1542': {'batchNo': 921,\n",
              "  'category': 'Chocolate',\n",
              "  'name': 'Fuse Chocolate',\n",
              "  'price': 35,\n",
              "  'qty': 800},\n",
              " '1543': {'batchNo': 932,\n",
              "  'category': 'Chocolate',\n",
              "  'name': 'Bournville Chocolate',\n",
              "  'price': 76,\n",
              "  'qty': 750},\n",
              " '1544': {'batchNo': 494,\n",
              "  'category': 'Chocolate',\n",
              "  'name': 'Dairy Milk silk',\n",
              "  'price': 160,\n",
              "  'qty': 1020},\n",
              " '1545': {'batchNo': 915,\n",
              "  'category': 'Chocolate',\n",
              "  'name': 'Dairy Milk Chocolate Bars',\n",
              "  'price': 40,\n",
              "  'qty': 2000},\n",
              " '1546': {'batchNo': 906,\n",
              "  'category': 'Chocolate',\n",
              "  'name': 'Snickers Bars',\n",
              "  'price': 20,\n",
              "  'qty': 3050},\n",
              " '1547': {'batchNo': 497,\n",
              "  'category': 'Chocolate',\n",
              "  'name': 'Kitkat Bars',\n",
              "  'price': 25,\n",
              "  'qty': 2500},\n",
              " '1548': {'batchNo': 298,\n",
              "  'category': 'Chocolate',\n",
              "  'name': 'Cadbury 5 star',\n",
              "  'price': 20,\n",
              "  'qty': 3000},\n",
              " '1549': {'batchNo': 199,\n",
              "  'category': 'Chocolate',\n",
              "  'name': 'Choco Minis',\n",
              "  'price': 350,\n",
              "  'qty': 900},\n",
              " '1550': {'batchNo': 100,\n",
              "  'category': 'Chocolate',\n",
              "  'name': 'Ferrero Rocher',\n",
              "  'price': 850,\n",
              "  'qty': 1500},\n",
              " '1551': {'batchNo': 101,\n",
              "  'category': 'Chocolate',\n",
              "  'name': 'Amul Chocolate',\n",
              "  'price': 125,\n",
              "  'qty': 2800},\n",
              " '1552': {'category': 'Chocolate',\n",
              "  'id': 102,\n",
              "  'name': '5 star Oreo',\n",
              "  'price': 300,\n",
              "  'qty': 1000},\n",
              " '1553': {'batchNo': 703,\n",
              "  'category': 'Chocolate',\n",
              "  'name': 'Milk Chocolate',\n",
              "  'price': 240,\n",
              "  'qty': 1700},\n",
              " '1554': {'batchNo': 104,\n",
              "  'category': 'Choco Biscuits',\n",
              "  'name': 'Parle cookies',\n",
              "  'price': 35,\n",
              "  'qty': 3000},\n",
              " '1555': {'batchNo': 105,\n",
              "  'category': 'Biscuits',\n",
              "  'name': 'Good Day Cookies',\n",
              "  'price': 20,\n",
              "  'qty': 3200},\n",
              " '1556': {'batchNo': 106,\n",
              "  'category': 'Biscuits',\n",
              "  'name': 'BourBonn biscuit',\n",
              "  'price': 10,\n",
              "  'qty': 2000},\n",
              " '1557': {'batchNo': 107,\n",
              "  'category': 'Biscuits',\n",
              "  'name': 'Tiger Biscuits',\n",
              "  'price': 5,\n",
              "  'qty': 3000},\n",
              " '1558': {'batchNo': 108,\n",
              "  'category': 'Biscuits',\n",
              "  'name': 'Milk Bikis',\n",
              "  'price': 25,\n",
              "  'qty': 3000},\n",
              " '1559': {'batchNo': 109,\n",
              "  'category': 'Biscuits',\n",
              "  'name': 'Britannia Treat Jim Jam',\n",
              "  'price': 25,\n",
              "  'qty': 2000},\n",
              " '1560': {'batchNo': 110,\n",
              "  'category': 'Biscuits',\n",
              "  'name': 'Britannia Treat Biscuits',\n",
              "  'price': 30,\n",
              "  'qty': 1500},\n",
              " '1561': {'batchNo': 111,\n",
              "  'category': 'Biscuits',\n",
              "  'name': 'Butter Cookies',\n",
              "  'price': 20,\n",
              "  'qty': 1500},\n",
              " '1562': {'batchNo': 112,\n",
              "  'category': 'Biscuits',\n",
              "  'name': 'Choco Nut Cookies',\n",
              "  'price': 160,\n",
              "  'qty': 850},\n",
              " '1563': {'batchNo': 113,\n",
              "  'category': 'Biscuits',\n",
              "  'name': 'Dark Fantasy',\n",
              "  'price': 30,\n",
              "  'qty': 1000},\n",
              " '1564': {'batchNo': 114,\n",
              "  'category': 'Biscuits',\n",
              "  'name': 'Treat Burst Cookies',\n",
              "  'price': 300,\n",
              "  'qty': 1500},\n",
              " '1565': {'batchNo': 115,\n",
              "  'category': 'Cake',\n",
              "  'name': 'Britannia Fruit cake',\n",
              "  'price': 40,\n",
              "  'qty': 3000},\n",
              " '1566': {'batchNo': 116,\n",
              "  'category': 'Biscuits',\n",
              "  'name': 'Choco Chips',\n",
              "  'price': 162,\n",
              "  'qty': 1000},\n",
              " '1567': {'batchNo': 117,\n",
              "  'category': 'Biscuits',\n",
              "  'name': 'Tiger Krunch Biscuits',\n",
              "  'price': 100,\n",
              "  'qty': 1500},\n",
              " '1568': {'batchNo': 118,\n",
              "  'category': 'Chocolate',\n",
              "  'name': 'perk',\n",
              "  'price': 25,\n",
              "  'qty': 2000},\n",
              " '1569': {'batchNo': 119,\n",
              "  'category': 'Biscuits',\n",
              "  'name': 'Choco Chip Cookies',\n",
              "  'price': 95,\n",
              "  'qty': 1000},\n",
              " '1570': {'batchNo': 120,\n",
              "  'category': 'Chocolate',\n",
              "  'name': 'Munch',\n",
              "  'price': 15,\n",
              "  'qty': 1000}}"
            ]
          },
          "metadata": {},
          "execution_count": 10
        }
      ]
    },
    {
      "cell_type": "markdown",
      "metadata": {
        "id": "QWJRelPcfV8D"
      },
      "source": [
        "**ADD NEW ITEMS INTO THE  INVENTORY**"
      ]
    },
    {
      "cell_type": "code",
      "metadata": {
        "colab": {
          "base_uri": "https://localhost:8080/"
        },
        "id": "Klpx0hK0YsUh",
        "outputId": "1539e8f6-d8af-403b-8025-58cd25c68f07"
      },
      "source": [
        "prod_id = str(input(\"Enter product id:\"))\n",
        "name = str(input(\"Enter name:\"))\n",
        "pr = int(input(\"Enter price:\"))\n",
        "qn = int(input(\"Enter quantity:\"))\n",
        "category = str(input(\"Enter category:\"))\n",
        "batchNo = int(input(\"Enter batchNo:\"))\n",
        "\n",
        "\n",
        "record[prod_id] = {'name': name, 'price': pr, 'qty': qn, 'category': category, 'batchNo': batchNo}\n",
        "\n",
        "js = json.dumps(record)\n",
        "\n",
        "fd = open(\"record.json\",'w')\n",
        "fd.write(js)\n",
        "fd.close()"
      ],
      "execution_count": 11,
      "outputs": [
        {
          "name": "stdout",
          "output_type": "stream",
          "text": [
            "Enter product id:1571\n",
            "Enter name:Pen\n",
            "Enter price:10\n",
            "Enter quantity:1000\n",
            "Enter category:Stationary\n",
            "Enter batchNo:125\n"
          ]
        }
      ]
    },
    {
      "cell_type": "code",
      "metadata": {
        "colab": {
          "base_uri": "https://localhost:8080/"
        },
        "id": "iVcJm7BLagf9",
        "outputId": "9e0ae7da-c63e-478b-ddf6-747d0d50ee0f"
      },
      "source": [
        "record"
      ],
      "execution_count": 12,
      "outputs": [
        {
          "output_type": "execute_result",
          "data": {
            "text/plain": [
              "{'1541': {'batchNo': 913,\n",
              "  'category': 'Chocolate',\n",
              "  'name': 'five star',\n",
              "  'price': 20,\n",
              "  'qty': 1000},\n",
              " '1542': {'batchNo': 921,\n",
              "  'category': 'Chocolate',\n",
              "  'name': 'Fuse Chocolate',\n",
              "  'price': 35,\n",
              "  'qty': 800},\n",
              " '1543': {'batchNo': 932,\n",
              "  'category': 'Chocolate',\n",
              "  'name': 'Bournville Chocolate',\n",
              "  'price': 76,\n",
              "  'qty': 750},\n",
              " '1544': {'batchNo': 494,\n",
              "  'category': 'Chocolate',\n",
              "  'name': 'Dairy Milk silk',\n",
              "  'price': 160,\n",
              "  'qty': 1020},\n",
              " '1545': {'batchNo': 915,\n",
              "  'category': 'Chocolate',\n",
              "  'name': 'Dairy Milk Chocolate Bars',\n",
              "  'price': 40,\n",
              "  'qty': 2000},\n",
              " '1546': {'batchNo': 906,\n",
              "  'category': 'Chocolate',\n",
              "  'name': 'Snickers Bars',\n",
              "  'price': 20,\n",
              "  'qty': 3050},\n",
              " '1547': {'batchNo': 497,\n",
              "  'category': 'Chocolate',\n",
              "  'name': 'Kitkat Bars',\n",
              "  'price': 25,\n",
              "  'qty': 2500},\n",
              " '1548': {'batchNo': 298,\n",
              "  'category': 'Chocolate',\n",
              "  'name': 'Cadbury 5 star',\n",
              "  'price': 20,\n",
              "  'qty': 3000},\n",
              " '1549': {'batchNo': 199,\n",
              "  'category': 'Chocolate',\n",
              "  'name': 'Choco Minis',\n",
              "  'price': 350,\n",
              "  'qty': 900},\n",
              " '1550': {'batchNo': 100,\n",
              "  'category': 'Chocolate',\n",
              "  'name': 'Ferrero Rocher',\n",
              "  'price': 850,\n",
              "  'qty': 1500},\n",
              " '1551': {'batchNo': 101,\n",
              "  'category': 'Chocolate',\n",
              "  'name': 'Amul Chocolate',\n",
              "  'price': 125,\n",
              "  'qty': 2800},\n",
              " '1552': {'category': 'Chocolate',\n",
              "  'id': 102,\n",
              "  'name': '5 star Oreo',\n",
              "  'price': 300,\n",
              "  'qty': 1000},\n",
              " '1553': {'batchNo': 703,\n",
              "  'category': 'Chocolate',\n",
              "  'name': 'Milk Chocolate',\n",
              "  'price': 240,\n",
              "  'qty': 1700},\n",
              " '1554': {'batchNo': 104,\n",
              "  'category': 'Choco Biscuits',\n",
              "  'name': 'Parle cookies',\n",
              "  'price': 35,\n",
              "  'qty': 3000},\n",
              " '1555': {'batchNo': 105,\n",
              "  'category': 'Biscuits',\n",
              "  'name': 'Good Day Cookies',\n",
              "  'price': 20,\n",
              "  'qty': 3200},\n",
              " '1556': {'batchNo': 106,\n",
              "  'category': 'Biscuits',\n",
              "  'name': 'BourBonn biscuit',\n",
              "  'price': 10,\n",
              "  'qty': 2000},\n",
              " '1557': {'batchNo': 107,\n",
              "  'category': 'Biscuits',\n",
              "  'name': 'Tiger Biscuits',\n",
              "  'price': 5,\n",
              "  'qty': 3000},\n",
              " '1558': {'batchNo': 108,\n",
              "  'category': 'Biscuits',\n",
              "  'name': 'Milk Bikis',\n",
              "  'price': 25,\n",
              "  'qty': 3000},\n",
              " '1559': {'batchNo': 109,\n",
              "  'category': 'Biscuits',\n",
              "  'name': 'Britannia Treat Jim Jam',\n",
              "  'price': 25,\n",
              "  'qty': 2000},\n",
              " '1560': {'batchNo': 110,\n",
              "  'category': 'Biscuits',\n",
              "  'name': 'Britannia Treat Biscuits',\n",
              "  'price': 30,\n",
              "  'qty': 1500},\n",
              " '1561': {'batchNo': 111,\n",
              "  'category': 'Biscuits',\n",
              "  'name': 'Butter Cookies',\n",
              "  'price': 20,\n",
              "  'qty': 1500},\n",
              " '1562': {'batchNo': 112,\n",
              "  'category': 'Biscuits',\n",
              "  'name': 'Choco Nut Cookies',\n",
              "  'price': 160,\n",
              "  'qty': 850},\n",
              " '1563': {'batchNo': 113,\n",
              "  'category': 'Biscuits',\n",
              "  'name': 'Dark Fantasy',\n",
              "  'price': 30,\n",
              "  'qty': 1000},\n",
              " '1564': {'batchNo': 114,\n",
              "  'category': 'Biscuits',\n",
              "  'name': 'Treat Burst Cookies',\n",
              "  'price': 300,\n",
              "  'qty': 1500},\n",
              " '1565': {'batchNo': 115,\n",
              "  'category': 'Cake',\n",
              "  'name': 'Britannia Fruit cake',\n",
              "  'price': 40,\n",
              "  'qty': 3000},\n",
              " '1566': {'batchNo': 116,\n",
              "  'category': 'Biscuits',\n",
              "  'name': 'Choco Chips',\n",
              "  'price': 162,\n",
              "  'qty': 1000},\n",
              " '1567': {'batchNo': 117,\n",
              "  'category': 'Biscuits',\n",
              "  'name': 'Tiger Krunch Biscuits',\n",
              "  'price': 100,\n",
              "  'qty': 1500},\n",
              " '1568': {'batchNo': 118,\n",
              "  'category': 'Chocolate',\n",
              "  'name': 'perk',\n",
              "  'price': 25,\n",
              "  'qty': 2000},\n",
              " '1569': {'batchNo': 119,\n",
              "  'category': 'Biscuits',\n",
              "  'name': 'Choco Chip Cookies',\n",
              "  'price': 95,\n",
              "  'qty': 1000},\n",
              " '1570': {'batchNo': 120,\n",
              "  'category': 'Chocolate',\n",
              "  'name': 'Munch',\n",
              "  'price': 15,\n",
              "  'qty': 1000},\n",
              " '1571': {'batchNo': 125,\n",
              "  'category': 'Stationary',\n",
              "  'name': 'Pen',\n",
              "  'price': 10,\n",
              "  'qty': 1000}}"
            ]
          },
          "metadata": {},
          "execution_count": 12
        }
      ]
    },
    {
      "cell_type": "code",
      "metadata": {
        "id": "nVU07gAGaj7H"
      },
      "source": [
        "del record['1567']"
      ],
      "execution_count": 13,
      "outputs": []
    },
    {
      "cell_type": "code",
      "metadata": {
        "colab": {
          "base_uri": "https://localhost:8080/"
        },
        "id": "kvI9sR0Tatri",
        "outputId": "f825a8e8-e88c-46e6-b8c2-d6b5c5c20c06"
      },
      "source": [
        "record"
      ],
      "execution_count": 14,
      "outputs": [
        {
          "output_type": "execute_result",
          "data": {
            "text/plain": [
              "{'1541': {'batchNo': 913,\n",
              "  'category': 'Chocolate',\n",
              "  'name': 'five star',\n",
              "  'price': 20,\n",
              "  'qty': 1000},\n",
              " '1542': {'batchNo': 921,\n",
              "  'category': 'Chocolate',\n",
              "  'name': 'Fuse Chocolate',\n",
              "  'price': 35,\n",
              "  'qty': 800},\n",
              " '1543': {'batchNo': 932,\n",
              "  'category': 'Chocolate',\n",
              "  'name': 'Bournville Chocolate',\n",
              "  'price': 76,\n",
              "  'qty': 750},\n",
              " '1544': {'batchNo': 494,\n",
              "  'category': 'Chocolate',\n",
              "  'name': 'Dairy Milk silk',\n",
              "  'price': 160,\n",
              "  'qty': 1020},\n",
              " '1545': {'batchNo': 915,\n",
              "  'category': 'Chocolate',\n",
              "  'name': 'Dairy Milk Chocolate Bars',\n",
              "  'price': 40,\n",
              "  'qty': 2000},\n",
              " '1546': {'batchNo': 906,\n",
              "  'category': 'Chocolate',\n",
              "  'name': 'Snickers Bars',\n",
              "  'price': 20,\n",
              "  'qty': 3050},\n",
              " '1547': {'batchNo': 497,\n",
              "  'category': 'Chocolate',\n",
              "  'name': 'Kitkat Bars',\n",
              "  'price': 25,\n",
              "  'qty': 2500},\n",
              " '1548': {'batchNo': 298,\n",
              "  'category': 'Chocolate',\n",
              "  'name': 'Cadbury 5 star',\n",
              "  'price': 20,\n",
              "  'qty': 3000},\n",
              " '1549': {'batchNo': 199,\n",
              "  'category': 'Chocolate',\n",
              "  'name': 'Choco Minis',\n",
              "  'price': 350,\n",
              "  'qty': 900},\n",
              " '1550': {'batchNo': 100,\n",
              "  'category': 'Chocolate',\n",
              "  'name': 'Ferrero Rocher',\n",
              "  'price': 850,\n",
              "  'qty': 1500},\n",
              " '1551': {'batchNo': 101,\n",
              "  'category': 'Chocolate',\n",
              "  'name': 'Amul Chocolate',\n",
              "  'price': 125,\n",
              "  'qty': 2800},\n",
              " '1552': {'category': 'Chocolate',\n",
              "  'id': 102,\n",
              "  'name': '5 star Oreo',\n",
              "  'price': 300,\n",
              "  'qty': 1000},\n",
              " '1553': {'batchNo': 703,\n",
              "  'category': 'Chocolate',\n",
              "  'name': 'Milk Chocolate',\n",
              "  'price': 240,\n",
              "  'qty': 1700},\n",
              " '1554': {'batchNo': 104,\n",
              "  'category': 'Choco Biscuits',\n",
              "  'name': 'Parle cookies',\n",
              "  'price': 35,\n",
              "  'qty': 3000},\n",
              " '1555': {'batchNo': 105,\n",
              "  'category': 'Biscuits',\n",
              "  'name': 'Good Day Cookies',\n",
              "  'price': 20,\n",
              "  'qty': 3200},\n",
              " '1556': {'batchNo': 106,\n",
              "  'category': 'Biscuits',\n",
              "  'name': 'BourBonn biscuit',\n",
              "  'price': 10,\n",
              "  'qty': 2000},\n",
              " '1557': {'batchNo': 107,\n",
              "  'category': 'Biscuits',\n",
              "  'name': 'Tiger Biscuits',\n",
              "  'price': 5,\n",
              "  'qty': 3000},\n",
              " '1558': {'batchNo': 108,\n",
              "  'category': 'Biscuits',\n",
              "  'name': 'Milk Bikis',\n",
              "  'price': 25,\n",
              "  'qty': 3000},\n",
              " '1559': {'batchNo': 109,\n",
              "  'category': 'Biscuits',\n",
              "  'name': 'Britannia Treat Jim Jam',\n",
              "  'price': 25,\n",
              "  'qty': 2000},\n",
              " '1560': {'batchNo': 110,\n",
              "  'category': 'Biscuits',\n",
              "  'name': 'Britannia Treat Biscuits',\n",
              "  'price': 30,\n",
              "  'qty': 1500},\n",
              " '1561': {'batchNo': 111,\n",
              "  'category': 'Biscuits',\n",
              "  'name': 'Butter Cookies',\n",
              "  'price': 20,\n",
              "  'qty': 1500},\n",
              " '1562': {'batchNo': 112,\n",
              "  'category': 'Biscuits',\n",
              "  'name': 'Choco Nut Cookies',\n",
              "  'price': 160,\n",
              "  'qty': 850},\n",
              " '1563': {'batchNo': 113,\n",
              "  'category': 'Biscuits',\n",
              "  'name': 'Dark Fantasy',\n",
              "  'price': 30,\n",
              "  'qty': 1000},\n",
              " '1564': {'batchNo': 114,\n",
              "  'category': 'Biscuits',\n",
              "  'name': 'Treat Burst Cookies',\n",
              "  'price': 300,\n",
              "  'qty': 1500},\n",
              " '1565': {'batchNo': 115,\n",
              "  'category': 'Cake',\n",
              "  'name': 'Britannia Fruit cake',\n",
              "  'price': 40,\n",
              "  'qty': 3000},\n",
              " '1566': {'batchNo': 116,\n",
              "  'category': 'Biscuits',\n",
              "  'name': 'Choco Chips',\n",
              "  'price': 162,\n",
              "  'qty': 1000},\n",
              " '1568': {'batchNo': 118,\n",
              "  'category': 'Chocolate',\n",
              "  'name': 'perk',\n",
              "  'price': 25,\n",
              "  'qty': 2000},\n",
              " '1569': {'batchNo': 119,\n",
              "  'category': 'Biscuits',\n",
              "  'name': 'Choco Chip Cookies',\n",
              "  'price': 95,\n",
              "  'qty': 1000},\n",
              " '1570': {'batchNo': 120,\n",
              "  'category': 'Chocolate',\n",
              "  'name': 'Munch',\n",
              "  'price': 15,\n",
              "  'qty': 1000},\n",
              " '1571': {'batchNo': 125,\n",
              "  'category': 'Stationary',\n",
              "  'name': 'Pen',\n",
              "  'price': 10,\n",
              "  'qty': 1000}}"
            ]
          },
          "metadata": {},
          "execution_count": 14
        }
      ]
    },
    {
      "cell_type": "markdown",
      "metadata": {
        "id": "lsxzbhRKc3Pq"
      },
      "source": [
        "**PURCHASE**"
      ]
    },
    {
      "cell_type": "code",
      "metadata": {
        "colab": {
          "base_uri": "https://localhost:8080/"
        },
        "id": "z6xqtbTvbFka",
        "outputId": "d65de9ea-2afa-475b-9329-d24a75c2d91d"
      },
      "source": [
        "ui_prod  = str(input(\"Enter the product_Id: \"))\n",
        "ui_quant = int(input(\"Enter the quantity: \"))\n",
        "\n",
        "\n",
        "print(\"Product: \", record[ui_prod]['name'])\n",
        "print(\"Price: \", record[ui_prod]['price'])\n",
        "print(\"Billing Amount: \", record[ui_prod]['price'] * ui_quant)\n",
        "\n",
        "record[ui_prod]['qty'] = record[ui_prod]['qty'] - ui_quant"
      ],
      "execution_count": 17,
      "outputs": [
        {
          "output_type": "stream",
          "name": "stdout",
          "text": [
            "Enter the product_Id: 1568\n",
            "Enter the quantity: 5\n",
            "Product:  perk\n",
            "Price:  25\n",
            "Billing Amount:  125\n"
          ]
        }
      ]
    },
    {
      "cell_type": "code",
      "metadata": {
        "id": "8eLbUNc_CvOM"
      },
      "source": [
        "\n",
        "        "
      ],
      "execution_count": 74,
      "outputs": []
    },
    {
      "cell_type": "code",
      "metadata": {
        "id": "uaLYmnrqDwQT"
      },
      "source": [
        "new_record = []\n",
        "\n",
        "for product in products:\n",
        "    prod = product.split(\",\")\n",
        "    if(ui_prod == prod[0]):\n",
        "        prod[3] = str(int(prod[3]) - ui_quant)\n",
        "        \n",
        "    new_record.append(prod[0] + \",\" + prod[1] + \",\" + prod[2] + \",\" + prod[3] + \"\\n\")\n",
        "    \n",
        "new_record[-1] = new_record[-1][:-1]"
      ],
      "execution_count": 75,
      "outputs": []
    },
    {
      "cell_type": "markdown",
      "metadata": {
        "id": "lW53IeKnce24"
      },
      "source": [
        "**UPDATE INVENTORY AFTER PURCHASE**"
      ]
    },
    {
      "cell_type": "code",
      "metadata": {
        "id": "sivGNBC4bYUS"
      },
      "source": [
        "js = json.dumps(record)\n",
        "\n",
        "fd = open(\"record.json\",'w')\n",
        "fd.write(js)\n",
        "fd.close()"
      ],
      "execution_count": 18,
      "outputs": []
    },
    {
      "cell_type": "markdown",
      "metadata": {
        "id": "2SGVT2ducuYc"
      },
      "source": [
        "**SALES JSON**"
      ]
    },
    {
      "cell_type": "code",
      "metadata": {
        "colab": {
          "base_uri": "https://localhost:8080/"
        },
        "id": "na2sJldobc-m",
        "outputId": "3346d4e4-0100-423b-cf0f-4c6ee1ef4e34"
      },
      "source": [
        "{'prod' : ui_prod, 'qty' : ui_quant, 'amount': record[ui_prod]['price'] * ui_quant}"
      ],
      "execution_count": 20,
      "outputs": [
        {
          "output_type": "execute_result",
          "data": {
            "text/plain": [
              "{'amount': 125, 'prod': '1568', 'qty': 5}"
            ]
          },
          "metadata": {},
          "execution_count": 20
        }
      ]
    },
    {
      "cell_type": "code",
      "metadata": {
        "id": "X253E6k2bqay"
      },
      "source": [
        "sales = {1560 : {'prod' : ui_prod, 'qty' : ui_quant, 'amount': record[ui_prod]['price'] * ui_quant},\n",
        "         1561 : {'prod' : ui_prod, 'qty' : ui_quant, 'amount': record[ui_prod]['price'] * ui_quant},\n",
        "         1562 : {'prod' : ui_prod, 'qty' : ui_quant, 'amount': record[ui_prod]['price'] * ui_quant}}"
      ],
      "execution_count": 22,
      "outputs": []
    },
    {
      "cell_type": "code",
      "metadata": {
        "id": "oa-0xKjMbzGv"
      },
      "source": [
        "sale = json.dumps(sales)"
      ],
      "execution_count": 23,
      "outputs": []
    },
    {
      "cell_type": "code",
      "metadata": {
        "colab": {
          "base_uri": "https://localhost:8080/",
          "height": 36
        },
        "id": "UG185ZrZcIro",
        "outputId": "f1a7d26b-5393-4dab-c5a0-335cfa7161b9"
      },
      "source": [
        "sale"
      ],
      "execution_count": 24,
      "outputs": [
        {
          "output_type": "execute_result",
          "data": {
            "application/vnd.google.colaboratory.intrinsic+json": {
              "type": "string"
            },
            "text/plain": [
              "'{\"1560\": {\"prod\": \"1568\", \"qty\": 5, \"amount\": 125}, \"1561\": {\"prod\": \"1568\", \"qty\": 5, \"amount\": 125}, \"1562\": {\"prod\": \"1568\", \"qty\": 5, \"amount\": 125}}'"
            ]
          },
          "metadata": {},
          "execution_count": 24
        }
      ]
    },
    {
      "cell_type": "code",
      "metadata": {
        "id": "XTglhfy6gsLG"
      },
      "source": [
        "record['1571']['qty'] = record['1571']['qty'] - 5"
      ],
      "execution_count": 30,
      "outputs": []
    },
    {
      "cell_type": "code",
      "metadata": {
        "colab": {
          "base_uri": "https://localhost:8080/"
        },
        "id": "XbfIADdo86bl",
        "outputId": "6e31a8c3-a072-4882-9c31-9c067cf650b0"
      },
      "source": [
        "record"
      ],
      "execution_count": 31,
      "outputs": [
        {
          "output_type": "execute_result",
          "data": {
            "text/plain": [
              "{'1541': {'batchNo': 913,\n",
              "  'category': 'Chocolate',\n",
              "  'name': 'five star',\n",
              "  'price': 20,\n",
              "  'qty': 1000},\n",
              " '1542': {'batchNo': 921,\n",
              "  'category': 'Chocolate',\n",
              "  'name': 'Fuse Chocolate',\n",
              "  'price': 35,\n",
              "  'qty': 800},\n",
              " '1543': {'batchNo': 932,\n",
              "  'category': 'Chocolate',\n",
              "  'name': 'Bournville Chocolate',\n",
              "  'price': 76,\n",
              "  'qty': 750},\n",
              " '1544': {'batchNo': 494,\n",
              "  'category': 'Chocolate',\n",
              "  'name': 'Dairy Milk silk',\n",
              "  'price': 160,\n",
              "  'qty': 1020},\n",
              " '1545': {'batchNo': 915,\n",
              "  'category': 'Chocolate',\n",
              "  'name': 'Dairy Milk Chocolate Bars',\n",
              "  'price': 40,\n",
              "  'qty': 2000},\n",
              " '1546': {'batchNo': 906,\n",
              "  'category': 'Chocolate',\n",
              "  'name': 'Snickers Bars',\n",
              "  'price': 20,\n",
              "  'qty': 3050},\n",
              " '1547': {'batchNo': 497,\n",
              "  'category': 'Chocolate',\n",
              "  'name': 'Kitkat Bars',\n",
              "  'price': 25,\n",
              "  'qty': 2500},\n",
              " '1548': {'batchNo': 298,\n",
              "  'category': 'Chocolate',\n",
              "  'name': 'Cadbury 5 star',\n",
              "  'price': 20,\n",
              "  'qty': 3000},\n",
              " '1549': {'batchNo': 199,\n",
              "  'category': 'Chocolate',\n",
              "  'name': 'Choco Minis',\n",
              "  'price': 350,\n",
              "  'qty': 900},\n",
              " '1550': {'batchNo': 100,\n",
              "  'category': 'Chocolate',\n",
              "  'name': 'Ferrero Rocher',\n",
              "  'price': 850,\n",
              "  'qty': 1500},\n",
              " '1551': {'batchNo': 101,\n",
              "  'category': 'Chocolate',\n",
              "  'name': 'Amul Chocolate',\n",
              "  'price': 125,\n",
              "  'qty': 2800},\n",
              " '1552': {'category': 'Chocolate',\n",
              "  'id': 102,\n",
              "  'name': '5 star Oreo',\n",
              "  'price': 300,\n",
              "  'qty': 1000},\n",
              " '1553': {'batchNo': 703,\n",
              "  'category': 'Chocolate',\n",
              "  'name': 'Milk Chocolate',\n",
              "  'price': 240,\n",
              "  'qty': 1700},\n",
              " '1554': {'batchNo': 104,\n",
              "  'category': 'Choco Biscuits',\n",
              "  'name': 'Parle cookies',\n",
              "  'price': 35,\n",
              "  'qty': 3000},\n",
              " '1555': {'batchNo': 105,\n",
              "  'category': 'Biscuits',\n",
              "  'name': 'Good Day Cookies',\n",
              "  'price': 20,\n",
              "  'qty': 3200},\n",
              " '1556': {'batchNo': 106,\n",
              "  'category': 'Biscuits',\n",
              "  'name': 'BourBonn biscuit',\n",
              "  'price': 10,\n",
              "  'qty': 2000},\n",
              " '1557': {'batchNo': 107,\n",
              "  'category': 'Biscuits',\n",
              "  'name': 'Tiger Biscuits',\n",
              "  'price': 5,\n",
              "  'qty': 3000},\n",
              " '1558': {'batchNo': 108,\n",
              "  'category': 'Biscuits',\n",
              "  'name': 'Milk Bikis',\n",
              "  'price': 25,\n",
              "  'qty': 3000},\n",
              " '1559': {'batchNo': 109,\n",
              "  'category': 'Biscuits',\n",
              "  'name': 'Britannia Treat Jim Jam',\n",
              "  'price': 25,\n",
              "  'qty': 2000},\n",
              " '1560': {'batchNo': 110,\n",
              "  'category': 'Biscuits',\n",
              "  'name': 'Britannia Treat Biscuits',\n",
              "  'price': 30,\n",
              "  'qty': 1500},\n",
              " '1561': {'batchNo': 111,\n",
              "  'category': 'Biscuits',\n",
              "  'name': 'Butter Cookies',\n",
              "  'price': 20,\n",
              "  'qty': 1500},\n",
              " '1562': {'batchNo': 112,\n",
              "  'category': 'Biscuits',\n",
              "  'name': 'Choco Nut Cookies',\n",
              "  'price': 160,\n",
              "  'qty': 850},\n",
              " '1563': {'batchNo': 113,\n",
              "  'category': 'Biscuits',\n",
              "  'name': 'Dark Fantasy',\n",
              "  'price': 30,\n",
              "  'qty': 1000},\n",
              " '1564': {'batchNo': 114,\n",
              "  'category': 'Biscuits',\n",
              "  'name': 'Treat Burst Cookies',\n",
              "  'price': 300,\n",
              "  'qty': 1500},\n",
              " '1565': {'batchNo': 115,\n",
              "  'category': 'Cake',\n",
              "  'name': 'Britannia Fruit cake',\n",
              "  'price': 40,\n",
              "  'qty': 3000},\n",
              " '1566': {'batchNo': 116,\n",
              "  'category': 'Biscuits',\n",
              "  'name': 'Choco Chips',\n",
              "  'price': 162,\n",
              "  'qty': 1000},\n",
              " '1568': {'batchNo': 118,\n",
              "  'category': 'Chocolate',\n",
              "  'name': 'perk',\n",
              "  'price': 25,\n",
              "  'qty': 1995},\n",
              " '1569': {'batchNo': 119,\n",
              "  'category': 'Biscuits',\n",
              "  'name': 'Choco Chip Cookies',\n",
              "  'price': 95,\n",
              "  'qty': 1000},\n",
              " '1570': {'batchNo': 120,\n",
              "  'category': 'Chocolate',\n",
              "  'name': 'Munch',\n",
              "  'price': 15,\n",
              "  'qty': 1000},\n",
              " '1571': {'batchNo': 125,\n",
              "  'category': 'Stationary',\n",
              "  'name': 'Pen',\n",
              "  'price': 10,\n",
              "  'qty': 990}}"
            ]
          },
          "metadata": {},
          "execution_count": 31
        }
      ]
    },
    {
      "cell_type": "code",
      "metadata": {
        "colab": {
          "base_uri": "https://localhost:8080/"
        },
        "id": "35x8TQtO9EQ7",
        "outputId": "6711ab3e-1fca-4521-95a8-5e52efa2b7fc"
      },
      "source": [
        "if (1571 in record.keys()):\n",
        "  print(\"Prod Exist\")\n",
        "\n",
        "  record[1571]['price'] = record[1571]['price'] + 10\n",
        "\n",
        "else:\n",
        "  print('dosnt exist')"
      ],
      "execution_count": 46,
      "outputs": [
        {
          "output_type": "stream",
          "name": "stdout",
          "text": [
            "Prod Exist\n"
          ]
        }
      ]
    },
    {
      "cell_type": "code",
      "metadata": {
        "colab": {
          "base_uri": "https://localhost:8080/"
        },
        "id": "XHoN04Zx-8VS",
        "outputId": "0e9cc4ad-368d-4aa7-8942-1cf9de9e3fd9"
      },
      "source": [
        "ui_prod = []\n",
        "ui_qty = []\n",
        "\n",
        "for i in range(100):\n",
        "  ui_prod.append(input(\"Enter prod ID: \"))\n",
        "  ui_qty.append(input(\"Enter prod Quantity: \"))\n",
        "\n",
        "  op = input(\"Y/N\")\n",
        "\n",
        "  if(op == \"N\"):\n",
        "    break\n"
      ],
      "execution_count": 60,
      "outputs": [
        {
          "name": "stdout",
          "output_type": "stream",
          "text": [
            "Enter prod ID: 1575\n",
            "Enter prod Quantity: 200\n",
            "Y/NY\n",
            "Enter prod ID: 1576\n",
            "Enter prod Quantity: 400\n",
            "Y/NN\n"
          ]
        }
      ]
    },
    {
      "cell_type": "code",
      "metadata": {
        "colab": {
          "base_uri": "https://localhost:8080/"
        },
        "id": "SDk2CWvr_7ze",
        "outputId": "7e1855dd-1ef5-4904-e454-0de64ed58526"
      },
      "source": [
        "ui_prod"
      ],
      "execution_count": 61,
      "outputs": [
        {
          "output_type": "execute_result",
          "data": {
            "text/plain": [
              "['1575', '1576']"
            ]
          },
          "metadata": {},
          "execution_count": 61
        }
      ]
    },
    {
      "cell_type": "code",
      "metadata": {
        "id": "HSysjKbLBDL_"
      },
      "source": [
        "data = {'record': { 1575 : {'prod_id': ui_prod, 'name': ['Biscuits','cake'], 'price': [100,200 ], 'qty': ui_qty}},\n",
        "        \n",
        "\n",
        "        'transaction' : {'prod_id': ui_prod, 'name': ['Biscuits','cake'], 'price': [100,200 ], 'qty': ui_qty}}"
      ],
      "execution_count": 63,
      "outputs": []
    },
    {
      "cell_type": "code",
      "metadata": {
        "colab": {
          "base_uri": "https://localhost:8080/"
        },
        "id": "diYP7oRaBfqH",
        "outputId": "c85e496c-ad96-4be8-e54d-8b04f6eeba54"
      },
      "source": [
        "data['record']"
      ],
      "execution_count": 64,
      "outputs": [
        {
          "output_type": "execute_result",
          "data": {
            "text/plain": [
              "{1575: {'name': ['Biscuits', 'cake'],\n",
              "  'price': [100, 200],\n",
              "  'prod_id': ['1575', '1576'],\n",
              "  'qty': ['200', '400']}}"
            ]
          },
          "metadata": {},
          "execution_count": 64
        }
      ]
    },
    {
      "cell_type": "code",
      "metadata": {
        "colab": {
          "base_uri": "https://localhost:8080/"
        },
        "id": "WtI7jjHZCRwS",
        "outputId": "83c50625-0349-42bd-9494-c92db76dc895"
      },
      "source": [
        "data['transaction']"
      ],
      "execution_count": 66,
      "outputs": [
        {
          "output_type": "execute_result",
          "data": {
            "text/plain": [
              "{'name': ['Biscuits', 'cake'],\n",
              " 'price': [100, 200],\n",
              " 'prod_id': ['1575', '1576'],\n",
              " 'qty': ['200', '400']}"
            ]
          },
          "metadata": {},
          "execution_count": 66
        }
      ]
    },
    {
      "cell_type": "code",
      "metadata": {
        "colab": {
          "base_uri": "https://localhost:8080/"
        },
        "id": "LmDD068rCaag",
        "outputId": "849d2129-5202-4d00-b3bd-97bd7bdad062"
      },
      "source": [
        "data"
      ],
      "execution_count": 67,
      "outputs": [
        {
          "output_type": "execute_result",
          "data": {
            "text/plain": [
              "{'record': {1575: {'name': ['Biscuits', 'cake'],\n",
              "   'price': [100, 200],\n",
              "   'prod_id': ['1575', '1576'],\n",
              "   'qty': ['200', '400']}},\n",
              " 'transaction': {'name': ['Biscuits', 'cake'],\n",
              "  'price': [100, 200],\n",
              "  'prod_id': ['1575', '1576'],\n",
              "  'qty': ['200', '400']}}"
            ]
          },
          "metadata": {},
          "execution_count": 67
        }
      ]
    },
    {
      "cell_type": "code",
      "metadata": {
        "id": "5n2naae6EL9r"
      },
      "source": [
        "import time\n",
        "time.ctime()"
      ],
      "execution_count": null,
      "outputs": []
    }
  ]
}